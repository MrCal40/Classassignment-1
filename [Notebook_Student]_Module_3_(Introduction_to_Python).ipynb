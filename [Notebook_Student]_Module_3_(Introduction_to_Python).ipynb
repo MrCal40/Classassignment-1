{
  "cells": [
    {
      "cell_type": "markdown",
      "metadata": {
        "id": "view-in-github",
        "colab_type": "text"
      },
      "source": [
        "<a href=\"https://colab.research.google.com/github/MrCal40/Classassignment-1/blob/main/%5BNotebook_Student%5D_Module_3_(Introduction_to_Python).ipynb\" target=\"_parent\"><img src=\"https://colab.research.google.com/assets/colab-badge.svg\" alt=\"Open In Colab\"/></a>"
      ]
    },
    {
      "cell_type": "markdown",
      "metadata": {
        "id": "n8k892W_QmZU"
      },
      "source": [
        "# **Getting Started with Python!**"
      ]
    },
    {
      "cell_type": "markdown",
      "metadata": {
        "id": "GncxQm8y7sKl"
      },
      "source": []
    },
    {
      "cell_type": "markdown",
      "metadata": {
        "id": "yeT2aJTMQmZa"
      },
      "source": [
        "##  What is Python ?"
      ]
    },
    {
      "cell_type": "markdown",
      "metadata": {
        "id": "4-texIqgQmZb"
      },
      "source": [
        "Python is a popular programming language that is reliable, flexible, easy to learn, free to use on all operating systems, and supported by both a strong developer community and many free libraries (Libraries are pre-written codes that developers use to solve common programming tasks).\n",
        "\n",
        "Python supports all manners of development, including web applications, web services, desktop apps, scripting, data science, scientific computing, and Jupyter notebooks. Python is a language used by many universities, scientists, casual developers, and professional developers alike.\n",
        "\n",
        "Python is a **high level programming Language**. This simply means that the commands used in Python are understandable by humans. These commands are then converted into machine code by using an interpreter.\n",
        "\n",
        "You can learn more about the language on [python.org](https://www.python.org/) and [Python for Beginners](https://www.python.org/about/gettingstarted/).."
      ]
    },
    {
      "cell_type": "markdown",
      "metadata": {
        "id": "wRAKwUmeQmZd"
      },
      "source": [
        "##  Why use Python for learning AI ?"
      ]
    },
    {
      "cell_type": "markdown",
      "metadata": {
        "id": "GFwO5zg6QmZe"
      },
      "source": [
        "# Python is more often than not the top most choice for Machine Learning Applications. The main reason for this is the amount of **simplicity, consistency and stability** Python code can bring to AI workflows.\n",
        "\n",
        "The simplest of AI workflows require extensive mathematical functions running in the background. The wide variety of stable and user friendly **libraries** like Scikit-Learn (used for handling basic Machine Learning algorithms like clustering, linear and logistic regressions, etc.), Matplotlib (used for creating bar charts, histograms and other data visualizations) etc provide great support for building scalable and efficient code. We shall cover more on these in the later sessions.\n",
        "\n",
        "Another reason why python is easy to use is that you **do not need to declare variable types** unlike other programming languages. A variable is the name you give to a value you want to store and use later.\n",
        "\n",
        "For example, let's say you would like to create a variable called money to store some numerical value of money, in Python you would only need to assign a value to the word 'money' to use it, in other programming languages, this requires a variable type declaration before use.\n",
        "\n",
        "Now that we have understood why we have chosen Python as our programming language, let's get started with basic commands we will come across frequently in our AI journey!"
      ]
    },
    {
      "cell_type": "markdown",
      "metadata": {
        "id": "N_6rWpqiMGni"
      },
      "source": [
        "**Some tips before we begin:**"
      ]
    },
    {
      "cell_type": "code",
      "execution_count": null,
      "metadata": {
        "id": "pW-0ivWEMGnj"
      },
      "outputs": [],
      "source": [
        "# 1) This box is called a Cell in a Notebook environment.\n",
        "# 2) Do try to follow along with your facilitator by pressing the Run button(left of the cell)"
      ]
    },
    {
      "cell_type": "markdown",
      "metadata": {
        "id": "EEKwmQIdQmZf"
      },
      "source": [
        "## Comments\n",
        "\n",
        "Many of the examples in this notebook include comments. Comments in Python start with the hash character, `#`, and extend to the end of the physical line. A comment may appear at the start of a line or following whitespace or code, but not within the quotation marks `\"\"` or `''` of a String itself. A hash character between quotation marks is just a hash character. Since comments are to clarify code and are not interpreted by Python, they may be omitted when typing in examples.\n",
        "\n",
        "Some examples:"
      ]
    },
    {
      "cell_type": "code",
      "execution_count": null,
      "metadata": {
        "colab": {
          "base_uri": "https://localhost:8080/"
        },
        "id": "JmE6SFGxQmZh",
        "outputId": "b4675c0d-8cfe-485c-a165-69eae5ddced6"
      },
      "outputs": [
        {
          "output_type": "stream",
          "name": "stdout",
          "text": [
            "Hi welcome to your first Python Program!\n"
          ]
        }
      ],
      "source": [
        "# This is the first comment\n",
        "number = 1  # and this is the second comment\n",
        "          # ... and now a third!\n",
        "'#Meanwhile, this is not a comment'\n",
        "\n",
        "Welcome = \"Hi welcome to your first Python Program!\"\n",
        "print(Welcome) #This is the 'print' Command"
      ]
    },
    {
      "cell_type": "markdown",
      "metadata": {
        "id": "OOX51tZTQmZx"
      },
      "source": [
        "# Explore Data Types in Python!"
      ]
    },
    {
      "cell_type": "markdown",
      "metadata": {
        "id": "VI45L6AYQmZy"
      },
      "source": [
        "Although we do not have to declare a type for python variables, a value does have a type. These are data types we will be covering in this Notebook:\n",
        "1. Numbers\n",
        "2. Strings\n",
        "3. Lists\n",
        "4. Tuples\n",
        "5. Dictionary"
      ]
    },
    {
      "cell_type": "code",
      "execution_count": null,
      "metadata": {
        "colab": {
          "base_uri": "https://localhost:8080/"
        },
        "id": "9R9IWt5n-LL7",
        "outputId": "052f4a30-7a2b-4b5e-f606-5a9f8c45d128"
      },
      "outputs": [
        {
          "output_type": "stream",
          "name": "stdout",
          "text": [
            "hello\n",
            "['I Love AI']\n",
            "2.5\n",
            "True\n"
          ]
        }
      ],
      "source": [
        "x = 'hello'\n",
        "print(x)\n",
        "\n",
        "x = [\"I Love AI\"]\n",
        "print(x)\n",
        "\n",
        "x = 2.5\n",
        "print(x)\n",
        "\n",
        "x = True #Boolean type, only has true or false, think of an on-off switch\n",
        "print(x)\n",
        "\n",
        "\n"
      ]
    },
    {
      "cell_type": "markdown",
      "metadata": {
        "id": "HjfUiFCKQmZz"
      },
      "source": [
        "## Numbers\n",
        "\n",
        "The Python interpreter can act as a simple calculator: type an expression at it outputs the value.\n",
        "\n",
        "Expression syntax is straightforward: the operators `+`, `-`, `*` and `/` work just like in most other programming languages (such as Pascal or C); parentheses (`()`) can be used for grouping and order or precedence. For example:"
      ]
    },
    {
      "cell_type": "code",
      "execution_count": null,
      "metadata": {
        "colab": {
          "base_uri": "https://localhost:8080/"
        },
        "id": "QOeZjO4BQmZ1",
        "outputId": "c8c80978-ca28-407d-e1fc-722c0dfac389"
      },
      "outputs": [
        {
          "output_type": "execute_result",
          "data": {
            "text/plain": [
              "4.0"
            ]
          },
          "metadata": {},
          "execution_count": 16
        }
      ],
      "source": [
        "56 + 28\n",
        "69 - 2\n",
        "2 * 5\n",
        "((2+1) * 4) / 3"
      ]
    },
    {
      "cell_type": "markdown",
      "metadata": {
        "id": "fSsmmhJeQmaH"
      },
      "source": [
        "The integer numbers (e.g. `2`, `4`, `20`) have type [`int`](https://docs.python.org/3.5/library/functions.html#int), the ones with a fractional part (e.g. `5.0`, `1.6`) have type [`float`](https://docs.python.org/3.5/library/functions.html#float).\n",
        "\n",
        "The major difference is float can be used for both integers and decimals.\n",
        "\n",
        "We can use the type() function to find which data type a variable belongs to."
      ]
    },
    {
      "cell_type": "code",
      "execution_count": null,
      "metadata": {
        "colab": {
          "base_uri": "https://localhost:8080/"
        },
        "id": "ncEg_5eRQmaO",
        "outputId": "0343e6e8-9446-4bcf-de7e-45b2ccedb5ac"
      },
      "outputs": [
        {
          "output_type": "stream",
          "name": "stdout",
          "text": [
            "Datatype for roll_number is <class 'list'>\n",
            "Datatype for marks is <class 'int'>\n"
          ]
        }
      ],
      "source": [
        "roll_number = ['40','50']\n",
        "marks = 525\n",
        "print (\"Datatype for roll_number is\",type(roll_number))\n",
        "print (\"Datatype for marks is\",type(marks)) #Notice that we did not declare either of the variables with a particular datatype"
      ]
    },
    {
      "cell_type": "markdown",
      "metadata": {
        "id": "bA0je0GNQmaw"
      },
      "source": [
        "Division (`/`) always returns a float. To do [floor division](https://docs.python.org/3.5/glossary.html#term-floor-division) and get an integer result (discarding any fractional result) you can use the `//` operator; to calculate the remainder you can use `%`:"
      ]
    },
    {
      "cell_type": "code",
      "execution_count": null,
      "metadata": {
        "id": "VlqlUoPLQmbC",
        "outputId": "715dd565-cc4b-44d2-8417-26fe1f6ecaad"
      },
      "outputs": [
        {
          "data": {
            "text/plain": [
              "2.6"
            ]
          },
          "execution_count": 6,
          "metadata": {},
          "output_type": "execute_result"
        }
      ],
      "source": [
        "13 / 5  # Division using the '/' operator returns a float."
      ]
    },
    {
      "cell_type": "code",
      "execution_count": null,
      "metadata": {
        "id": "u1I05HgTQmbV",
        "outputId": "3cab3273-043a-4136-ebc0-e4512d74768a"
      },
      "outputs": [
        {
          "data": {
            "text/plain": [
              "2"
            ]
          },
          "execution_count": 7,
          "metadata": {},
          "output_type": "execute_result"
        }
      ],
      "source": [
        "13 // 5  # Floor division (division which uses the '//' operator) discards the fractional part."
      ]
    },
    {
      "cell_type": "code",
      "execution_count": null,
      "metadata": {
        "id": "pqUPZcDjQmbe",
        "outputId": "60c8f2d1-7ccf-4fc5-a078-b65cec804424"
      },
      "outputs": [
        {
          "data": {
            "text/plain": [
              "3"
            ]
          },
          "execution_count": 8,
          "metadata": {},
          "output_type": "execute_result"
        }
      ],
      "source": [
        "13 % 5  # The '%' operator returns the remainder of the division."
      ]
    },
    {
      "cell_type": "markdown",
      "metadata": {
        "id": "KL7_nuNGQmbl"
      },
      "source": [
        "Use the `**` operator to calculate powers:"
      ]
    },
    {
      "cell_type": "code",
      "execution_count": null,
      "metadata": {
        "colab": {
          "base_uri": "https://localhost:8080/"
        },
        "id": "FeO9nbRVQmbm",
        "outputId": "ad14100d-c858-4312-d8f6-2054f68e8db9"
      },
      "outputs": [
        {
          "output_type": "execute_result",
          "data": {
            "text/plain": [
              "20736"
            ]
          },
          "metadata": {},
          "execution_count": 18
        }
      ],
      "source": [
        "144**2 # This will print the square of '144'"
      ]
    },
    {
      "cell_type": "code",
      "execution_count": null,
      "metadata": {
        "colab": {
          "base_uri": "https://localhost:8080/"
        },
        "id": "ox8YE63kQmbs",
        "outputId": "0da94ea1-91ba-4401-c055-430147ab8d31"
      },
      "outputs": [
        {
          "output_type": "execute_result",
          "data": {
            "text/plain": [
              "128"
            ]
          },
          "metadata": {},
          "execution_count": 17
        }
      ],
      "source": [
        "2**7 # This will print 2 to the power 7"
      ]
    },
    {
      "cell_type": "markdown",
      "metadata": {
        "id": "78zPTit4QmcD"
      },
      "source": [
        "`**` has higher precedence than `-`; if you want a negative base, use parentheses:"
      ]
    },
    {
      "cell_type": "code",
      "execution_count": null,
      "metadata": {
        "id": "JmtzPfPmQmcE",
        "outputId": "1abbfc65-89fd-406e-8648-7906ec3f78c8"
      },
      "outputs": [
        {
          "data": {
            "text/plain": [
              "-16"
            ]
          },
          "execution_count": 11,
          "metadata": {},
          "output_type": "execute_result"
        }
      ],
      "source": [
        "-4**2 #Result will be same as -(4**2)"
      ]
    },
    {
      "cell_type": "code",
      "execution_count": null,
      "metadata": {
        "colab": {
          "base_uri": "https://localhost:8080/"
        },
        "id": "iJdjBRebQmcd",
        "outputId": "ebd52bcb-2b1e-498c-9e15-707c28b0db60"
      },
      "outputs": [
        {
          "output_type": "execute_result",
          "data": {
            "text/plain": [
              "16"
            ]
          },
          "metadata": {},
          "execution_count": 24
        }
      ],
      "source": [
        "(-4)**2"
      ]
    },
    {
      "cell_type": "markdown",
      "metadata": {
        "id": "mjp5w2QuQmcn"
      },
      "source": [
        "The equal sign (`=`) is used for assigning values to a variable"
      ]
    },
    {
      "cell_type": "code",
      "execution_count": null,
      "metadata": {
        "colab": {
          "base_uri": "https://localhost:8080/"
        },
        "id": "pzW6Z9NqQmco",
        "outputId": "98c8167a-4bd7-4eda-82c4-d3773ce1a7f9"
      },
      "outputs": [
        {
          "output_type": "execute_result",
          "data": {
            "text/plain": [
              "1400"
            ]
          },
          "metadata": {},
          "execution_count": 26
        }
      ],
      "source": [
        "weight = 70\n",
        "total_people =20\n",
        "weight * total_people"
      ]
    },
    {
      "cell_type": "markdown",
      "metadata": {
        "id": "gFRTTYQRQmct"
      },
      "source": [
        "If a variable is not defined (i.e assigned a value) then using it results in an error"
      ]
    },
    {
      "cell_type": "code",
      "execution_count": null,
      "metadata": {
        "colab": {
          "base_uri": "https://localhost:8080/"
        },
        "id": "de3Wfw54Qmcu",
        "outputId": "555f34db-338b-46a1-f917-f64e82bfdb05"
      },
      "outputs": [
        {
          "output_type": "stream",
          "name": "stdout",
          "text": [
            "hello\n"
          ]
        }
      ],
      "source": [
        "n = 'hello'# Accessing an undefined variable.\n",
        "print(n)\n"
      ]
    },
    {
      "cell_type": "markdown",
      "metadata": {
        "id": "RHvbvqqYQmc3"
      },
      "source": [
        "In addition to `int` and `float`, Python supports other types of numbers, such as [`Decimal`](https://docs.python.org/3.5/library/decimal.html#decimal.Decimal) and [`Fraction`](https://docs.python.org/3.5/library/fractions.html#fractions.Fraction). Python also has built-in support for [complex numbers](https://docs.python.org/3.5/library/stdtypes.html#typesnumeric), and uses the `j` or `J` suffix to indicate the imaginary part (e.g. `3+5j`)."
      ]
    },
    {
      "cell_type": "markdown",
      "metadata": {
        "id": "K46jXA1pQmc5"
      },
      "source": [
        "## Strings"
      ]
    },
    {
      "cell_type": "markdown",
      "metadata": {
        "id": "VH8yiVFWQmc6"
      },
      "source": [
        "Strings are a sequence of characters. Besides numbers, Python can also manipulate strings. Strings can enclosed in single quotes `'...'` or double quotes `\"...\"` with the same result. Use \\ to escape quotes, that is, to use the `'` within the string itself:"
      ]
    },
    {
      "cell_type": "code",
      "execution_count": null,
      "metadata": {
        "id": "p21soIQ6Qmc7",
        "outputId": "4a708a08-52c6-4699-a1ab-93ef0ec6766e"
      },
      "outputs": [
        {
          "data": {
            "text/plain": [
              "str"
            ]
          },
          "execution_count": 15,
          "metadata": {},
          "output_type": "execute_result"
        }
      ],
      "source": [
        "string=\"What skills have you learnt today ?\"\n",
        "type(string)"
      ]
    },
    {
      "cell_type": "code",
      "execution_count": null,
      "metadata": {
        "id": "wIFSo6hrQmdF",
        "outputId": "dbae9c01-2cd6-4137-f4ea-d7acccd824e7"
      },
      "outputs": [
        {
          "data": {
            "text/plain": [
              "'Learn Python for AI'"
            ]
          },
          "execution_count": 16,
          "metadata": {},
          "output_type": "execute_result"
        }
      ],
      "source": [
        "'Learn Python for AI' # Using Single Quotes"
      ]
    },
    {
      "cell_type": "code",
      "execution_count": null,
      "metadata": {
        "id": "-DhlIYYiQmdT",
        "outputId": "b29fac7c-c272-47ca-947b-42b5568300d2"
      },
      "outputs": [
        {
          "data": {
            "text/plain": [
              "\"Isn't this fun?\""
            ]
          },
          "execution_count": 17,
          "metadata": {},
          "output_type": "execute_result"
        }
      ],
      "source": [
        "'Isn\\'t this fun?' # The backslash \\ here is to denote that you would like to use the ' symbol in a string rather than ending it"
      ]
    },
    {
      "cell_type": "code",
      "execution_count": null,
      "metadata": {
        "id": "Bq7joXzpMGoD",
        "outputId": "41f6ca8b-14bf-4b85-fef0-55289c88f20a",
        "colab": {
          "base_uri": "https://localhost:8080/",
          "height": 35
        }
      },
      "outputs": [
        {
          "output_type": "execute_result",
          "data": {
            "text/plain": [
              "\"Isn't this fun?\""
            ],
            "application/vnd.google.colaboratory.intrinsic+json": {
              "type": "string"
            }
          },
          "metadata": {},
          "execution_count": 8
        }
      ],
      "source": [
        "# This is what happens otherwise, an error will be produced as the characters after the quotes will be seen as codes by Python\n",
        "'Isn\\'t this fun?'"
      ]
    },
    {
      "cell_type": "code",
      "execution_count": null,
      "metadata": {
        "id": "gTwWHZl5Qmda",
        "outputId": "fce52771-de32-4fd0-9212-165e28bda58a"
      },
      "outputs": [
        {
          "data": {
            "text/plain": [
              "\"Isn't this fun? \""
            ]
          },
          "execution_count": 19,
          "metadata": {},
          "output_type": "execute_result"
        }
      ],
      "source": [
        "\"Isn't this fun? \"# ...or use double quotes instead."
      ]
    },
    {
      "cell_type": "markdown",
      "metadata": {
        "id": "c9ryQH7pQmdh"
      },
      "source": [
        "In the interactive interpreter and Jupyter notebooks, the output string is enclosed in quotes and special characters are escaped with backslashes. Although this output sometimes looks different from the input (the enclosing quotes could change), the two strings are equivalent. The string is enclosed in double quotes if the string contains a single quote and no double quotes, otherwise its enclosed in single quotes. The [`print()`](https://docs.python.org/3.6/library/functions.html#print) function produces a more readable output by omitting the enclosing quotes and by printing escaped and special characters:"
      ]
    },
    {
      "cell_type": "code",
      "execution_count": null,
      "metadata": {
        "id": "Z-V4ZOJdQmdl",
        "outputId": "ffccf9b9-4e66-49a6-89e0-d7e0228baf59"
      },
      "outputs": [
        {
          "data": {
            "text/plain": [
              "'\"Isn\\'t this fun?,\" she said.'"
            ]
          },
          "execution_count": 20,
          "metadata": {},
          "output_type": "execute_result"
        }
      ],
      "source": [
        "'\"Isn\\'t this fun?,\" she said.'"
      ]
    },
    {
      "cell_type": "code",
      "execution_count": null,
      "metadata": {
        "id": "YNduUyGyQmdr",
        "outputId": "7ee47c91-db89-4cba-d41a-6bc60af52a73"
      },
      "outputs": [
        {
          "name": "stdout",
          "output_type": "stream",
          "text": [
            "\"Isn't this fun?,\" she said.\n"
          ]
        }
      ],
      "source": [
        "print('\"Isn\\'t this fun?,\" she said.')"
      ]
    },
    {
      "cell_type": "code",
      "execution_count": null,
      "metadata": {
        "id": "nQgT5TC8Qmdy",
        "outputId": "30a1581a-4b8b-4412-d2e0-3190f2639e42",
        "colab": {
          "base_uri": "https://localhost:8080/",
          "height": 35
        }
      },
      "outputs": [
        {
          "output_type": "execute_result",
          "data": {
            "text/plain": [
              "'First line.\\nSecond line.'"
            ],
            "application/vnd.google.colaboratory.intrinsic+json": {
              "type": "string"
            }
          },
          "metadata": {},
          "execution_count": 16
        }
      ],
      "source": [
        "# Let's create a variable s to store our String\n",
        "\n",
        "s = 'First line.\\nSecond line.'  #\\n means newline.\n",
        "s  # Without print(), \\n is included in the output."
      ]
    },
    {
      "cell_type": "code",
      "execution_count": null,
      "metadata": {
        "id": "zrNLwj5jQmeR",
        "outputId": "7aaf5f2f-4875-4e89-996b-042da1e5876b",
        "colab": {
          "base_uri": "https://localhost:8080/"
        }
      },
      "outputs": [
        {
          "output_type": "stream",
          "name": "stdout",
          "text": [
            "First line. \n",
            "Second line.\n"
          ]
        }
      ],
      "source": [
        "# Calling the print function to display the value of variable s\n",
        "s = 'First line. \\nSecond line.'\n",
        "print(s)  # With print(), \\n produces a new line."
      ]
    },
    {
      "cell_type": "markdown",
      "metadata": {
        "id": "6G6SLgLxQmeb"
      },
      "source": [
        "If you don't want escaped characters (prefaced by \\) to be interpreted as special characters, use raw strings by adding an r before the first quote:"
      ]
    },
    {
      "cell_type": "code",
      "execution_count": null,
      "metadata": {
        "id": "qBzfcKtyQmed",
        "outputId": "8261fcc9-a9bd-4fe2-b82d-642d97bd7e84"
      },
      "outputs": [
        {
          "name": "stdout",
          "output_type": "stream",
          "text": [
            "C:\\some\n",
            "ame\n"
          ]
        }
      ],
      "source": [
        "print('C:\\some\\name')  # Similar to the example above, the Print function interpretes \\n as a newline"
      ]
    },
    {
      "cell_type": "code",
      "execution_count": null,
      "metadata": {
        "id": "SGj790mnQmej",
        "outputId": "cabf0a23-b99f-41b8-e5b4-a8db41ea4054"
      },
      "outputs": [
        {
          "name": "stdout",
          "output_type": "stream",
          "text": [
            "C:\\some\\name\n"
          ]
        }
      ],
      "source": [
        "print(r'C:\\some\\name')  #Note the usage of r here to give you the desired output"
      ]
    },
    {
      "cell_type": "markdown",
      "metadata": {
        "id": "p5Z8QaTgQmes"
      },
      "source": [
        "Because Python doesn't provide a means for creating multi-line comments, developers often just use triple quotes for this purpose. In a Jupyter notebook, however, such quotes define a string literal(anything enclosed in quotes `\"\"`) which appears as the output of a code cell:"
      ]
    },
    {
      "cell_type": "code",
      "execution_count": null,
      "metadata": {
        "id": "sqe5LryBQmet",
        "outputId": "1c18449b-d728-4477-f280-bd46a9094d50"
      },
      "outputs": [
        {
          "data": {
            "text/plain": [
              "\"\\nEverything between the first three quotes, including new lines,\\nis part of the multi-line comment. Technically, the Python interpreter\\nsimply sees the comment as a string, and because it's not otherwise\\nused in code, the string is ignored. Convenient, eh?\\n\""
            ]
          },
          "execution_count": 26,
          "metadata": {},
          "output_type": "execute_result"
        }
      ],
      "source": [
        "\"\"\"\n",
        "Everything between the first three quotes, including new lines,\n",
        "is part of the multi-line comment. Technically, the Python interpreter\n",
        "simply sees the comment as a string, and because it's not otherwise\n",
        "used in code, the string is ignored. Convenient, eh?\n",
        "\"\"\""
      ]
    },
    {
      "cell_type": "markdown",
      "metadata": {
        "id": "HXALjwFTQmez"
      },
      "source": [
        "For this reason, it's best in notebooks to use the # comment character at the beginning of each line, or better still, just use a Markdown cell!"
      ]
    },
    {
      "cell_type": "code",
      "source": [
        "#regular comment\n",
        "## indented comment\n",
        "### double indented commnet\n",
        "''''\n",
        "**This is bolded**\n",
        "#regular comment\n",
        "## indented comment\n",
        "### double indented commnet\n",
        "'''\n",
        "**This is bolded**\n",
        "python\n",
        "print(\"hello\")\n",
        "'''\n",
        "\n",
        "$$ E = mc^2 $$\n"
      ],
      "metadata": {
        "colab": {
          "base_uri": "https://localhost:8080/",
          "height": 106
        },
        "id": "dBmMF9ZVm9UV",
        "outputId": "1ad286e9-45e2-4c0f-f320-b18c4c1c9a1a"
      },
      "execution_count": null,
      "outputs": [
        {
          "output_type": "error",
          "ename": "SyntaxError",
          "evalue": "unterminated string literal (detected at line 8) (<ipython-input-19-37396ae751f2>, line 8)",
          "traceback": [
            "\u001b[0;36m  File \u001b[0;32m\"<ipython-input-19-37396ae751f2>\"\u001b[0;36m, line \u001b[0;32m8\u001b[0m\n\u001b[0;31m    ''''\u001b[0m\n\u001b[0m       ^\u001b[0m\n\u001b[0;31mSyntaxError\u001b[0m\u001b[0;31m:\u001b[0m unterminated string literal (detected at line 8)\n"
          ]
        }
      ]
    },
    {
      "cell_type": "markdown",
      "metadata": {
        "id": "-6Prb46iMGoQ"
      },
      "source": [
        "## Data manipulation"
      ]
    },
    {
      "cell_type": "markdown",
      "metadata": {
        "id": "_P7Lwn4UMGoR"
      },
      "source": [
        "Data manipulation is any change of data from the original, this can be as minor as sorting sentences or words by alphabetical order, or more advanced using libraries such as NumPy which we shall explore in the later sessions.\n",
        "For the purpose of this introduction, we shall explore some techniques and methods of data manipulation done on Strings"
      ]
    },
    {
      "cell_type": "markdown",
      "metadata": {
        "id": "eup4gJ1jQme0"
      },
      "source": [
        "Strings can be concatenated (joined together) with the + operator, and repeated with *:"
      ]
    },
    {
      "cell_type": "code",
      "execution_count": null,
      "metadata": {
        "id": "sUTuSJzCQme5",
        "outputId": "f3c1347d-d9fc-459a-9121-b1798290c1e8"
      },
      "outputs": [
        {
          "data": {
            "text/plain": [
              "'jojorabbit'"
            ]
          },
          "execution_count": 27,
          "metadata": {},
          "output_type": "execute_result"
        }
      ],
      "source": [
        "# 2 times 'jo', followed by 'rabbit'\n",
        "2 * 'jo' + 'rabbit'"
      ]
    },
    {
      "cell_type": "markdown",
      "metadata": {
        "id": "LbZ5XN4eQmfD"
      },
      "source": [
        "Two or more *string literals* (that is, the values enclosed in quotes `\"\"` or `''`) placed next to each other are automatically concatenated(joined together):"
      ]
    },
    {
      "cell_type": "code",
      "execution_count": null,
      "metadata": {
        "id": "8EJSUOYZQmfF",
        "outputId": "56129697-52c1-4b1e-a597-a029c94cfdff"
      },
      "outputs": [
        {
          "data": {
            "text/plain": [
              "'DataScience'"
            ]
          },
          "execution_count": 28,
          "metadata": {},
          "output_type": "execute_result"
        }
      ],
      "source": [
        "'Data' 'Science'"
      ]
    },
    {
      "cell_type": "markdown",
      "metadata": {
        "id": "GqU_BqTqQmfO"
      },
      "source": [
        "Automatic concatenation works only with two literals; it does not work with variables or expressions, so the following cell produces an error:"
      ]
    },
    {
      "cell_type": "code",
      "execution_count": null,
      "metadata": {
        "id": "aa1PwEOEQmfR",
        "outputId": "f7053e0f-8491-42a2-dd99-d3677afbedd5"
      },
      "outputs": [
        {
          "ename": "SyntaxError",
          "evalue": "invalid syntax (<ipython-input-29-d7b7a9a8b7d5>, line 2)",
          "output_type": "error",
          "traceback": [
            "\u001b[1;36m  File \u001b[1;32m\"<ipython-input-29-d7b7a9a8b7d5>\"\u001b[1;36m, line \u001b[1;32m2\u001b[0m\n\u001b[1;33m    prefix 'Science'  # Can't concatenate a variable and a string literal.\u001b[0m\n\u001b[1;37m           ^\u001b[0m\n\u001b[1;31mSyntaxError\u001b[0m\u001b[1;31m:\u001b[0m invalid syntax\n"
          ]
        }
      ],
      "source": [
        "prefix = 'Data'\n",
        "prefix 'Science'  # Can't concatenate a variable and a string literal."
      ]
    },
    {
      "cell_type": "markdown",
      "metadata": {
        "id": "v3LzmfQKQmfg"
      },
      "source": [
        "To concatenate variables, or a variable and a literal, use `+`:"
      ]
    },
    {
      "cell_type": "code",
      "execution_count": null,
      "metadata": {
        "id": "_uTJcvaoQmfh",
        "outputId": "b021cd00-8bc9-470a-bdb3-5b8f2c23e6d9"
      },
      "outputs": [
        {
          "data": {
            "text/plain": [
              "'DataScience'"
            ]
          },
          "execution_count": 30,
          "metadata": {},
          "output_type": "execute_result"
        }
      ],
      "source": [
        "prefix = 'Data'\n",
        "prefix + 'Science'"
      ]
    },
    {
      "cell_type": "markdown",
      "metadata": {
        "id": "XfOmYJJzQmfp"
      },
      "source": [
        "Automatic concatenation is particularly useful when you want to break up long strings:"
      ]
    },
    {
      "cell_type": "code",
      "execution_count": null,
      "metadata": {
        "id": "p3vWqWmMQmfq",
        "outputId": "67fb51cc-661e-4348-f600-dfa78506edd9"
      },
      "outputs": [
        {
          "data": {
            "text/plain": [
              "'Put several strings within parentheses to have them joined together.'"
            ]
          },
          "execution_count": 31,
          "metadata": {},
          "output_type": "execute_result"
        }
      ],
      "source": [
        "word = ('Put several strings within parentheses '\n",
        "            'to have them joined together.')\n",
        "word"
      ]
    },
    {
      "cell_type": "markdown",
      "metadata": {
        "id": "0dyGmFHsQmf7"
      },
      "source": [
        "**Note: In programming, the first number is actually 0! Look up `Zero-based numbering` for more details**\n",
        "\n",
        "Strings can be *indexed* (subscripted), with the first character having index 0. There is no separate `character` data type; a character is simply a `string` with 1 element"
      ]
    },
    {
      "cell_type": "code",
      "execution_count": null,
      "metadata": {
        "id": "R5pRQeAxQmf8",
        "outputId": "9f52b9f3-42c6-467e-eb1d-714575728931",
        "colab": {
          "base_uri": "https://localhost:8080/",
          "height": 53
        }
      },
      "outputs": [
        {
          "output_type": "stream",
          "name": "stdout",
          "text": [
            "Length of the word Python is: 40\n"
          ]
        },
        {
          "output_type": "execute_result",
          "data": {
            "text/plain": [
              "'r'"
            ],
            "application/vnd.google.colaboratory.intrinsic+json": {
              "type": "string"
            }
          },
          "metadata": {},
          "execution_count": 1
        }
      ],
      "source": [
        "word = 'Python is first choice among programmers'\n",
        "print (\"Length of the word Python is:\",len(word))# This gives you 40\n",
        "\n",
        "word[-2]  # This gives you 'r' the first character of the string 'Python'"
      ]
    },
    {
      "cell_type": "code",
      "execution_count": null,
      "metadata": {
        "id": "oBY5JpVZQmgB",
        "outputId": "34ab47e3-3369-47ec-a1f6-7f2903a7b527",
        "colab": {
          "base_uri": "https://localhost:8080/",
          "height": 35
        }
      },
      "outputs": [
        {
          "output_type": "execute_result",
          "data": {
            "text/plain": [
              "'h'"
            ],
            "application/vnd.google.colaboratory.intrinsic+json": {
              "type": "string"
            }
          },
          "metadata": {},
          "execution_count": 22
        }
      ],
      "source": [
        "word[3]  # This gives you'h' the last character of the string 'Python'"
      ]
    },
    {
      "cell_type": "markdown",
      "metadata": {
        "id": "u0iG8Mv1QmgO"
      },
      "source": [
        "Indices may also be negative numbers, which means to start counting from the end of the string. Note that because -0 is the same as 0, negative indices start from -1:"
      ]
    },
    {
      "cell_type": "code",
      "execution_count": null,
      "metadata": {
        "id": "aEvFYp9CQmgR",
        "outputId": "9a12b793-d5f2-4502-9e2f-c8d512a42ea0",
        "colab": {
          "base_uri": "https://localhost:8080/",
          "height": 35
        }
      },
      "outputs": [
        {
          "output_type": "execute_result",
          "data": {
            "text/plain": [
              "'s'"
            ],
            "application/vnd.google.colaboratory.intrinsic+json": {
              "type": "string"
            }
          },
          "metadata": {},
          "execution_count": 3
        }
      ],
      "source": [
        "word[-1]  # Last character."
      ]
    },
    {
      "cell_type": "code",
      "execution_count": null,
      "metadata": {
        "id": "OiWEhZF2Qmgh",
        "outputId": "457b1bfe-5b74-428c-dcef-f4df47c8f64c",
        "colab": {
          "base_uri": "https://localhost:8080/",
          "height": 35
        }
      },
      "outputs": [
        {
          "output_type": "execute_result",
          "data": {
            "text/plain": [
              "'r'"
            ],
            "application/vnd.google.colaboratory.intrinsic+json": {
              "type": "string"
            }
          },
          "metadata": {},
          "execution_count": 4
        }
      ],
      "source": [
        "word[-2]  # Second-last character."
      ]
    },
    {
      "cell_type": "markdown",
      "metadata": {
        "id": "lj2Ie4OeQmg1"
      },
      "source": [
        "In addition to indexing, which extracts individual characters, Python also supports *slicing*, which extracts a substring. To slice, you indicate a *range*(In math, range is defined as the difference between the highest and lowest values, for example range of `3:9` is 9 - 3 = `6`) in the format `start:end`, where the start position is included but the end position is excluded:"
      ]
    },
    {
      "cell_type": "code",
      "execution_count": null,
      "metadata": {
        "id": "pPHrYlSjQmg2",
        "outputId": "a85e30e0-daa5-4843-977f-790c7f375a2d",
        "colab": {
          "base_uri": "https://localhost:8080/",
          "height": 35
        }
      },
      "outputs": [
        {
          "output_type": "execute_result",
          "data": {
            "text/plain": [
              "'first'"
            ],
            "application/vnd.google.colaboratory.intrinsic+json": {
              "type": "string"
            }
          },
          "metadata": {},
          "execution_count": 8
        }
      ],
      "source": [
        "word[10:15]  # Only characters in the range of position 0 to 2."
      ]
    },
    {
      "cell_type": "code",
      "execution_count": null,
      "metadata": {
        "id": "Mqr4JdOhQmhI",
        "outputId": "498938c7-3060-467b-d82a-fac16a31ea7f",
        "colab": {
          "base_uri": "https://localhost:8080/",
          "height": 35
        }
      },
      "outputs": [
        {
          "output_type": "execute_result",
          "data": {
            "text/plain": [
              "'choice'"
            ],
            "application/vnd.google.colaboratory.intrinsic+json": {
              "type": "string"
            }
          },
          "metadata": {},
          "execution_count": 9
        }
      ],
      "source": [
        "word[16:22]  # Only characters in the range of position 2 to 5"
      ]
    },
    {
      "cell_type": "markdown",
      "metadata": {
        "id": "j-Btdoi0QmhO"
      },
      "source": [
        "If you omit either position, the default start position is 0 and the default end is the length of the string:"
      ]
    },
    {
      "cell_type": "code",
      "execution_count": null,
      "metadata": {
        "id": "zDAh6H1vQmhQ",
        "outputId": "dbc1ea84-d75b-42ba-cb7b-df75b1631d5e",
        "colab": {
          "base_uri": "https://localhost:8080/",
          "height": 35
        }
      },
      "outputs": [
        {
          "output_type": "execute_result",
          "data": {
            "text/plain": [
              "'Py'"
            ],
            "application/vnd.google.colaboratory.intrinsic+json": {
              "type": "string"
            }
          },
          "metadata": {},
          "execution_count": 10
        }
      ],
      "source": [
        "word[:2]   # :2 is 0 to 2"
      ]
    },
    {
      "cell_type": "code",
      "execution_count": null,
      "metadata": {
        "id": "t6hWlz4fQmhg",
        "outputId": "919167e6-2285-4c5a-abcf-cf11defaa795",
        "colab": {
          "base_uri": "https://localhost:8080/",
          "height": 35
        }
      },
      "outputs": [
        {
          "output_type": "execute_result",
          "data": {
            "text/plain": [
              "'on is first choice among programmers'"
            ],
            "application/vnd.google.colaboratory.intrinsic+json": {
              "type": "string"
            }
          },
          "metadata": {},
          "execution_count": 11
        }
      ],
      "source": [
        "word[4:]  # 4: is 4 to 5"
      ]
    },
    {
      "cell_type": "code",
      "execution_count": null,
      "metadata": {
        "id": "5sdb_spFQmhm",
        "outputId": "dcbb6c59-209b-4707-fede-10a625b7dda8",
        "colab": {
          "base_uri": "https://localhost:8080/",
          "height": 35
        }
      },
      "outputs": [
        {
          "output_type": "execute_result",
          "data": {
            "text/plain": [
              "'rs'"
            ],
            "application/vnd.google.colaboratory.intrinsic+json": {
              "type": "string"
            }
          },
          "metadata": {},
          "execution_count": 13
        }
      ],
      "source": [
        "# This one is tricky! -2 is the 2nd last character, so this is equivalent to the above\n",
        "word[-2:]"
      ]
    },
    {
      "cell_type": "markdown",
      "metadata": {
        "id": "48MTfYuVQmh1"
      },
      "source": [
        "One way to remember how slices work is to think of the indices as pointing between characters, with the left edge of the first character numbered 0. Then the right edge of the last character of a string of *n* characters has index *n*. For example:"
      ]
    },
    {
      "cell_type": "raw",
      "metadata": {
        "id": "--UwXTMOQmh2"
      },
      "source": [
        "```\n",
        "+---+---+---+---+---+---+\n",
        "| P | y | t | h | o | n |\n",
        "+---+---+---+---+---+---+\n",
        "0   1   2   3   4   5   6\n",
        "-6  -5  -4  -3  -2  -1\n",
        "```"
      ]
    },
    {
      "cell_type": "markdown",
      "metadata": {
        "id": "D-wwcTQnQmh7"
      },
      "source": [
        "The first row of numbers gives the position of the indices 0...6 in the string; the second row gives the corresponding negative indices. The slice from *i* to *j* consists of all characters between the edges labeled *i* and *j*, respectively.\n",
        "\n",
        "For non-negative indices, the length of a slice is the difference of the indices, if both are within bounds. For example, the length of `word[1:3]` is 2.\n",
        "\n",
        "Attempting to use an index that is too large results in an error:"
      ]
    },
    {
      "cell_type": "code",
      "execution_count": null,
      "metadata": {
        "id": "8j-XdV25Qmh-",
        "outputId": "18c972a2-27aa-44cb-a994-82379cd448d4",
        "colab": {
          "base_uri": "https://localhost:8080/",
          "height": 35
        }
      },
      "outputs": [
        {
          "output_type": "execute_result",
          "data": {
            "text/plain": [
              "'m'"
            ],
            "application/vnd.google.colaboratory.intrinsic+json": {
              "type": "string"
            }
          },
          "metadata": {},
          "execution_count": 14
        }
      ],
      "source": [
        "word[36]  # The word only has 6 characters."
      ]
    },
    {
      "cell_type": "markdown",
      "metadata": {
        "id": "yOVskCFIQmiS"
      },
      "source": [
        "However, when used in a range, an index that's too large defaults to the size of the string and does not give an error. This characteristic is useful when you always want to slice at a particular index regardless of the length of a string:"
      ]
    },
    {
      "cell_type": "code",
      "execution_count": null,
      "metadata": {
        "id": "c6d0XUWoQmiV",
        "outputId": "c07edec0-452b-4bcb-e956-f08331738aeb",
        "colab": {
          "base_uri": "https://localhost:8080/",
          "height": 35
        }
      },
      "outputs": [
        {
          "output_type": "execute_result",
          "data": {
            "text/plain": [
              "'program'"
            ],
            "application/vnd.google.colaboratory.intrinsic+json": {
              "type": "string"
            }
          },
          "metadata": {},
          "execution_count": 17
        }
      ],
      "source": [
        "word[29:36]"
      ]
    },
    {
      "cell_type": "markdown",
      "metadata": {
        "id": "8MjXu2B4Qmid"
      },
      "source": [
        "Strings are immutable which means they do not support assignment of a new value to an indexed postion. To know more on what immutable means, check this [link](https://docs.python.org/3.5/glossary.html#term-immutable). Let's check the example below to understand it in practise"
      ]
    },
    {
      "cell_type": "code",
      "execution_count": null,
      "metadata": {
        "id": "iOE9BhZkQmie",
        "outputId": "6c22ab68-0491-4923-c3aa-ca1ef8ab86ba",
        "colab": {
          "base_uri": "https://localhost:8080/",
          "height": 141
        }
      },
      "outputs": [
        {
          "output_type": "error",
          "ename": "TypeError",
          "evalue": "'str' object does not support item assignment",
          "traceback": [
            "\u001b[0;31m---------------------------------------------------------------------------\u001b[0m",
            "\u001b[0;31mTypeError\u001b[0m                                 Traceback (most recent call last)",
            "\u001b[0;32m<ipython-input-18-5e8fde66b022>\u001b[0m in \u001b[0;36m<cell line: 1>\u001b[0;34m()\u001b[0m\n\u001b[0;32m----> 1\u001b[0;31m \u001b[0mword\u001b[0m\u001b[0;34m[\u001b[0m\u001b[0;36m2\u001b[0m\u001b[0;34m]\u001b[0m\u001b[0;34m=\u001b[0m\u001b[0;34m'a'\u001b[0m\u001b[0;34m\u001b[0m\u001b[0;34m\u001b[0m\u001b[0m\n\u001b[0m",
            "\u001b[0;31mTypeError\u001b[0m: 'str' object does not support item assignment"
          ]
        }
      ],
      "source": [
        "word[2]='a'"
      ]
    },
    {
      "cell_type": "markdown",
      "metadata": {
        "id": "u2Q6nhiQQmik"
      },
      "source": [
        "The following cell also produces an error:"
      ]
    },
    {
      "cell_type": "code",
      "execution_count": null,
      "metadata": {
        "id": "7sbRpYz0Qmim",
        "outputId": "edf0c12a-ddf0-45f2-8d50-db414f1c26b0",
        "colab": {
          "base_uri": "https://localhost:8080/",
          "height": 141
        }
      },
      "outputs": [
        {
          "output_type": "error",
          "ename": "TypeError",
          "evalue": "'str' object does not support item assignment",
          "traceback": [
            "\u001b[0;31m---------------------------------------------------------------------------\u001b[0m",
            "\u001b[0;31mTypeError\u001b[0m                                 Traceback (most recent call last)",
            "\u001b[0;32m<ipython-input-19-6488bbf78f5a>\u001b[0m in \u001b[0;36m<cell line: 1>\u001b[0;34m()\u001b[0m\n\u001b[0;32m----> 1\u001b[0;31m \u001b[0mword\u001b[0m\u001b[0;34m[\u001b[0m\u001b[0;36m2\u001b[0m\u001b[0;34m:\u001b[0m\u001b[0;34m]\u001b[0m \u001b[0;34m=\u001b[0m \u001b[0;34m'py'\u001b[0m\u001b[0;34m\u001b[0m\u001b[0;34m\u001b[0m\u001b[0m\n\u001b[0m",
            "\u001b[0;31mTypeError\u001b[0m: 'str' object does not support item assignment"
          ]
        }
      ],
      "source": [
        "word[2:] = 'py'"
      ]
    },
    {
      "cell_type": "code",
      "execution_count": null,
      "metadata": {
        "id": "yrx6mtNoMGor"
      },
      "outputs": [],
      "source": []
    },
    {
      "cell_type": "markdown",
      "metadata": {
        "id": "VXMu0dVlQmio"
      },
      "source": [
        "A slice it itself a value that you can concatenate with other values using `+`:"
      ]
    },
    {
      "cell_type": "code",
      "execution_count": null,
      "metadata": {
        "id": "4YWQR403Qmip",
        "outputId": "41a30fce-d3ea-4cfd-d194-e04a04052865",
        "colab": {
          "base_uri": "https://localhost:8080/",
          "height": 35
        }
      },
      "outputs": [
        {
          "output_type": "execute_result",
          "data": {
            "text/plain": [
              "'Jython is first choice among programmers'"
            ],
            "application/vnd.google.colaboratory.intrinsic+json": {
              "type": "string"
            }
          },
          "metadata": {},
          "execution_count": 20
        }
      ],
      "source": [
        "'J' + word[1:]"
      ]
    },
    {
      "cell_type": "code",
      "execution_count": null,
      "metadata": {
        "id": "sEtHIAqMQmiw",
        "outputId": "a07da524-150f-41e4-acc5-4fa2f25a7772",
        "colab": {
          "base_uri": "https://localhost:8080/",
          "height": 35
        }
      },
      "outputs": [
        {
          "output_type": "execute_result",
          "data": {
            "text/plain": [
              "'PyPy'"
            ],
            "application/vnd.google.colaboratory.intrinsic+json": {
              "type": "string"
            }
          },
          "metadata": {},
          "execution_count": 22
        }
      ],
      "source": [
        "word[:2] + 'Py'"
      ]
    },
    {
      "cell_type": "markdown",
      "metadata": {
        "id": "9XmlQMh1Qmiz"
      },
      "source": [
        "A slice, however, is not a string literal and cannot be used with automatic concatenation. The following code produces an error:"
      ]
    },
    {
      "cell_type": "code",
      "execution_count": null,
      "metadata": {
        "id": "rfHvpWLzQmi0",
        "outputId": "28de838c-f4f9-4f28-e9b0-41ffd4bfd275"
      },
      "outputs": [
        {
          "ename": "SyntaxError",
          "evalue": "invalid syntax (<ipython-input-47-60be1c701626>, line 1)",
          "output_type": "error",
          "traceback": [
            "\u001b[1;36m  File \u001b[1;32m\"<ipython-input-47-60be1c701626>\"\u001b[1;36m, line \u001b[1;32m1\u001b[0m\n\u001b[1;33m    word[:2] 'Py'    # Slice is not a literal; produces an error\u001b[0m\n\u001b[1;37m             ^\u001b[0m\n\u001b[1;31mSyntaxError\u001b[0m\u001b[1;31m:\u001b[0m invalid syntax\n"
          ]
        }
      ],
      "source": [
        "word[:2] 'Py'    # Slice is not a literal; produces an error"
      ]
    },
    {
      "cell_type": "markdown",
      "metadata": {
        "id": "7Vrgw036QmjC"
      },
      "source": [
        "The built-in function [`len()`](https://docs.python.org/3.5/library/functions.html#len) returns the length of a string:"
      ]
    },
    {
      "cell_type": "code",
      "execution_count": null,
      "metadata": {
        "id": "9ggcwHTEQmjD",
        "outputId": "b8fcff8b-7f1e-4603-dbc6-6af037d7780d"
      },
      "outputs": [
        {
          "data": {
            "text/plain": [
              "36"
            ]
          },
          "execution_count": 48,
          "metadata": {},
          "output_type": "execute_result"
        }
      ],
      "source": [
        "text = 'Using Python for data science is fun'\n",
        "len(text) #Notice that even the spaces are counted in the length"
      ]
    },
    {
      "cell_type": "markdown",
      "metadata": {
        "id": "bzBdwrZEQmjK"
      },
      "source": [
        "# Lists"
      ]
    },
    {
      "cell_type": "markdown",
      "metadata": {
        "id": "yT6OJlclQmjL"
      },
      "source": [
        "A list is an **ordered** sequence of items, meaning items in the list are stored in the `order` of which it was input.\n",
        "Remember, a list may contain different types of items.\n",
        "To define a list, you must put values separated with commas in square brackets."
      ]
    },
    {
      "cell_type": "code",
      "execution_count": null,
      "metadata": {
        "id": "8SBi7hzbQmjM",
        "outputId": "38958ccc-c1ca-49e0-e0db-e550e02128ce"
      },
      "outputs": [
        {
          "data": {
            "text/plain": [
              "list"
            ]
          },
          "execution_count": 49,
          "metadata": {},
          "output_type": "execute_result"
        }
      ],
      "source": [
        "Students=['Vicky',25,'Jun Kai',12] # Here the name of the student is stored with their respective roll numbers\n",
        "type(Students)"
      ]
    },
    {
      "cell_type": "markdown",
      "metadata": {
        "id": "1AbKito1QmjT"
      },
      "source": [
        "Lists are mutable(can be changed or updated) unlike Strings. Like strings (and all other built-in [sequence](https://docs.python.org/3.5/glossary.html#term-sequence) types), lists can be indexed and sliced:"
      ]
    },
    {
      "cell_type": "code",
      "execution_count": null,
      "metadata": {
        "id": "rsaF8QBZQmjU",
        "outputId": "d119840c-f3a6-423f-eb6b-739288eeda57"
      },
      "outputs": [
        {
          "data": {
            "text/plain": [
              "'Vicky'"
            ]
          },
          "execution_count": 50,
          "metadata": {},
          "output_type": "execute_result"
        }
      ],
      "source": [
        "Students[0]  # Indexing returns the item."
      ]
    },
    {
      "cell_type": "code",
      "execution_count": null,
      "metadata": {
        "id": "Tyus-1dWQmjc",
        "outputId": "e346ccc6-5f76-480d-b50c-564be0a65e57"
      },
      "outputs": [
        {
          "data": {
            "text/plain": [
              "12"
            ]
          },
          "execution_count": 51,
          "metadata": {},
          "output_type": "execute_result"
        }
      ],
      "source": [
        "Students[-1]"
      ]
    },
    {
      "cell_type": "code",
      "execution_count": null,
      "metadata": {
        "id": "nt7XfmgPQmjz",
        "outputId": "4252373d-cadb-4cb2-a592-35d46ffd939c"
      },
      "outputs": [
        {
          "data": {
            "text/plain": [
              "[25, 'Jun Kai', 12]"
            ]
          },
          "execution_count": 52,
          "metadata": {},
          "output_type": "execute_result"
        }
      ],
      "source": [
        "Students[-3:]  # Slicing returns a new list."
      ]
    },
    {
      "cell_type": "code",
      "execution_count": null,
      "metadata": {
        "id": "Vecj91UrQmkH",
        "outputId": "8d034b6c-b735-40d8-b925-f9c0dbfc1ecb"
      },
      "outputs": [
        {
          "data": {
            "text/plain": [
              "['Vicky', 25, 'Jun Kai', 12]"
            ]
          },
          "execution_count": 53,
          "metadata": {},
          "output_type": "execute_result"
        }
      ],
      "source": [
        "Students[:]"
      ]
    },
    {
      "cell_type": "markdown",
      "metadata": {
        "id": "ljUfZHHkQmkQ"
      },
      "source": [
        "Lists also support concatenation with the `+` operator:"
      ]
    },
    {
      "cell_type": "code",
      "execution_count": null,
      "metadata": {
        "id": "aXKpnbZkQmkQ",
        "outputId": "0fac818b-e3f4-4259-f637-6e07fb2ea400"
      },
      "outputs": [
        {
          "data": {
            "text/plain": [
              "['Vicky', 25, 'Jun Kai', 12, 'Gabrielle', 13, 'Cao', 47]"
            ]
          },
          "execution_count": 54,
          "metadata": {},
          "output_type": "execute_result"
        }
      ],
      "source": [
        "Students + ['Gabrielle',13, 'Cao', 47]"
      ]
    },
    {
      "cell_type": "markdown",
      "metadata": {
        "id": "LINx1gxIQmkb"
      },
      "source": [
        "As mentioned at the start, unlike strings, which are immutable, lists are a mutable type, which means you can change any value in the list:"
      ]
    },
    {
      "cell_type": "code",
      "execution_count": null,
      "metadata": {
        "id": "uVF_y-ZiQmki"
      },
      "outputs": [],
      "source": [
        "Students=['Vicky',25,'Jun Kai',12] #Something is wrong here....\n",
        "#Vicky's roll number is 10"
      ]
    },
    {
      "cell_type": "code",
      "execution_count": null,
      "metadata": {
        "id": "lFCru_AMQmkm",
        "outputId": "c844d229-f5f4-4aae-cddb-cfc947fbc7ec"
      },
      "outputs": [
        {
          "data": {
            "text/plain": [
              "['Vicky', 10, 'Jun Kai', 12]"
            ]
          },
          "execution_count": 56,
          "metadata": {},
          "output_type": "execute_result"
        }
      ],
      "source": [
        "Students[1]=10 #correcting the wrong value\n",
        "Students"
      ]
    },
    {
      "cell_type": "markdown",
      "metadata": {
        "id": "9G9-ltu8Qmks"
      },
      "source": [
        "Use the list's `append()` method to add new items to the end of the list:"
      ]
    },
    {
      "cell_type": "code",
      "execution_count": null,
      "metadata": {
        "id": "AEh8DPBWQmkt",
        "outputId": "e6c1eb90-5dff-4f87-fcdd-0db66069b0eb"
      },
      "outputs": [
        {
          "data": {
            "text/plain": [
              "['Vicky', 10, 'Jun Kai', 12, 'Isaac']"
            ]
          },
          "execution_count": 57,
          "metadata": {},
          "output_type": "execute_result"
        }
      ],
      "source": [
        "Students.append('Isaac') #Note you can only add one argument at a time\n",
        "Students\n"
      ]
    },
    {
      "cell_type": "code",
      "execution_count": null,
      "metadata": {
        "id": "pk3in1B9Qmky",
        "outputId": "843fa6dd-ee14-4538-907f-efcf6fd207bb"
      },
      "outputs": [
        {
          "data": {
            "text/plain": [
              "['Vicky', 10, 'Jun Kai', 12, 'Isaac', 15]"
            ]
          },
          "execution_count": 58,
          "metadata": {},
          "output_type": "execute_result"
        }
      ],
      "source": [
        "Students.append(15) #Adding the second argument\n",
        "Students"
      ]
    },
    {
      "cell_type": "markdown",
      "metadata": {
        "id": "oqCY4CtCQmk4"
      },
      "source": [
        "You can even assign to slices, which can change the size of the list or clear it entirely:"
      ]
    },
    {
      "cell_type": "code",
      "execution_count": null,
      "metadata": {
        "id": "z4FEGFWyQmk6",
        "outputId": "b8ad575e-3281-459d-9faa-f1029c06ac80"
      },
      "outputs": [
        {
          "data": {
            "text/plain": [
              "['Vicky', 10, 'Ming Ian', 21, 15]"
            ]
          },
          "execution_count": 59,
          "metadata": {},
          "output_type": "execute_result"
        }
      ],
      "source": [
        "#Replace some values\n",
        "Students[2:5]=['Ming Ian', 21]\n",
        "Students"
      ]
    },
    {
      "cell_type": "code",
      "execution_count": null,
      "metadata": {
        "id": "cLaFnrqhQmlA",
        "outputId": "d3a1cd15-d907-451e-8f12-72324f42b407"
      },
      "outputs": [
        {
          "data": {
            "text/plain": [
              "['Vicky', 10]"
            ]
          },
          "execution_count": 60,
          "metadata": {},
          "output_type": "execute_result"
        }
      ],
      "source": [
        "# Now remove them.\n",
        "Students[2:5] = []\n",
        "Students"
      ]
    },
    {
      "cell_type": "markdown",
      "metadata": {
        "id": "BBULIWX7QmlE"
      },
      "source": [
        "The built-in len() function also applies to lists:"
      ]
    },
    {
      "cell_type": "code",
      "execution_count": null,
      "metadata": {
        "id": "IduWyDgDQmlG",
        "outputId": "ea8b66a6-accd-427a-aa5e-8263ddacb0f1"
      },
      "outputs": [
        {
          "data": {
            "text/plain": [
              "2"
            ]
          },
          "execution_count": 61,
          "metadata": {},
          "output_type": "execute_result"
        }
      ],
      "source": [
        "len(Students)"
      ]
    },
    {
      "cell_type": "markdown",
      "metadata": {
        "id": "RX4sCbu8QmlK"
      },
      "source": [
        "You can nest lists, which means to create lists that contain other lists. For example:"
      ]
    },
    {
      "cell_type": "code",
      "execution_count": null,
      "metadata": {
        "id": "c9O1U64eQmlL",
        "outputId": "7c76889c-8a64-422f-baaa-089e9c3a2f79"
      },
      "outputs": [
        {
          "data": {
            "text/plain": [
              "[['a', 'b', 'c'], [1, 2, 3]]"
            ]
          },
          "execution_count": 62,
          "metadata": {},
          "output_type": "execute_result"
        }
      ],
      "source": [
        "a = ['a', 'b', 'c'] #List 1\n",
        "n = [1, 2, 3] #List 2\n",
        "x = [a, n] # List x now contains List 1 and List 2\n",
        "x"
      ]
    },
    {
      "cell_type": "code",
      "execution_count": null,
      "metadata": {
        "id": "YmCP-8eQQmlO",
        "outputId": "d81cb84f-1255-4508-dc76-47b20249177b"
      },
      "outputs": [
        {
          "name": "stdout",
          "output_type": "stream",
          "text": [
            "List 1: ['a', 'b', 'c']\n",
            "List 2: [1, 2, 3]\n"
          ]
        }
      ],
      "source": [
        "x[0] # The first element of the nested list is List 1\n",
        "x[1] # The second element of the nested list is list 2\n",
        "print (\"List 1:\",x[0])\n",
        "print (\"List 2:\",x[1])"
      ]
    },
    {
      "cell_type": "code",
      "execution_count": null,
      "metadata": {
        "id": "DGgaMGogQmlT",
        "outputId": "1b573658-e14d-42a2-d027-f2daa9f12dd0"
      },
      "outputs": [
        {
          "data": {
            "text/plain": [
              "'b'"
            ]
          },
          "execution_count": 64,
          "metadata": {},
          "output_type": "execute_result"
        }
      ],
      "source": [
        "#This would give you, the 2nd element of List 1, which is 'b'\n",
        "x[0][1]"
      ]
    },
    {
      "cell_type": "markdown",
      "metadata": {
        "id": "yR8oZIPOQmlX"
      },
      "source": [
        "# Tuples"
      ]
    },
    {
      "cell_type": "markdown",
      "metadata": {
        "id": "-4fhSP4kQmlY"
      },
      "source": [
        "A tuple is an ordered sequence of items. You might be wondering now then how is it different from lists?\n",
        "\n",
        "The main differences between tuples and lists are :\n",
        "1. Tuples cannot be modified element wise like lists (Objects which cannot be modified in such a manner are described as **immutable** objects.\n",
        "2. Tuples use parentheses, whereas lists use square brackets."
      ]
    },
    {
      "cell_type": "code",
      "execution_count": null,
      "metadata": {
        "id": "-JaURertQmlY",
        "outputId": "3271f3f5-fafc-469e-863c-b45a5a951daa"
      },
      "outputs": [
        {
          "name": "stdout",
          "output_type": "stream",
          "text": [
            "('Susan', 25, 'John', 12)\n"
          ]
        }
      ],
      "source": [
        "Students_new = ('Susan',25,'John',12) #Tuple being defined\n",
        "print(Students_new)"
      ]
    },
    {
      "cell_type": "code",
      "execution_count": null,
      "metadata": {
        "colab": {
          "base_uri": "https://localhost:8080/",
          "height": 183
        },
        "id": "LN0-jf8vQmlh",
        "outputId": "651c5abd-b1c4-4af6-c246-e04970c89c6c"
      },
      "outputs": [
        {
          "ename": "TypeError",
          "evalue": "'tuple' object does not support item assignment",
          "output_type": "error",
          "traceback": [
            "\u001b[1;31m---------------------------------------------------------------------------\u001b[0m",
            "\u001b[1;31mTypeError\u001b[0m                                 Traceback (most recent call last)",
            "\u001b[1;32m<ipython-input-66-d7771a832364>\u001b[0m in \u001b[0;36m<module>\u001b[1;34m\u001b[0m\n\u001b[1;32m----> 1\u001b[1;33m \u001b[0mStudents_new\u001b[0m\u001b[1;33m[\u001b[0m\u001b[1;36m1\u001b[0m\u001b[1;33m]\u001b[0m\u001b[1;33m=\u001b[0m \u001b[1;34m'26'\u001b[0m\u001b[1;33m\u001b[0m\u001b[1;33m\u001b[0m\u001b[0m\n\u001b[0m\u001b[0;32m      2\u001b[0m \u001b[0mprint\u001b[0m\u001b[1;33m(\u001b[0m\u001b[0mStudents_new\u001b[0m\u001b[1;33m)\u001b[0m \u001b[1;31m#Notice the error which shows up in the output\u001b[0m\u001b[1;33m\u001b[0m\u001b[1;33m\u001b[0m\u001b[0m\n",
            "\u001b[1;31mTypeError\u001b[0m: 'tuple' object does not support item assignment"
          ]
        }
      ],
      "source": [
        "Students_new[1]= '26'\n",
        "print(Students_new) #Notice the error which shows up in the output"
      ]
    },
    {
      "cell_type": "markdown",
      "metadata": {
        "id": "-KWdBt3hQmlx"
      },
      "source": [
        "# Dictionary"
      ]
    },
    {
      "cell_type": "markdown",
      "metadata": {
        "id": "SJYdqkn6Qmlx"
      },
      "source": [
        "Dictionary is an unordered collection of key-value pairs.\n",
        "\n",
        "In Python, dictionaries are defined within braces {} with each item being a pair in the form **key:value**. Key and value can be of any type.\n",
        "\n",
        "A Dictionary in Python works similar to the Dictionary in a real world. Keys of a Dictionary must be unique and\n",
        "of immutable data type such as Strings, Integers and tuples, but the key-values can be repeated and be of any type.\n",
        "\n",
        "You might want to use a Dictionary over Tuples as it is quicker to access data if the data source is substantially large as finding data in Tuples requires looping which we will go through later"
      ]
    },
    {
      "cell_type": "code",
      "execution_count": null,
      "metadata": {
        "id": "vU4akZPmQmly",
        "outputId": "af84ca96-778b-4154-9c14-5baa0a10372b"
      },
      "outputs": [
        {
          "data": {
            "text/plain": [
              "'Monday'"
            ]
          },
          "execution_count": 67,
          "metadata": {},
          "output_type": "execute_result"
        }
      ],
      "source": [
        "Time={'Day':'Monday','Date':[1,2,3]}\n",
        "type(Time)\n",
        "Time['Day'] #Using key to display respective value"
      ]
    },
    {
      "cell_type": "code",
      "execution_count": null,
      "metadata": {
        "colab": {
          "base_uri": "https://localhost:8080/",
          "height": 166
        },
        "id": "aea1nt3dQml7",
        "outputId": "fce73704-402f-4ac2-9e80-970cfb7ac7f9"
      },
      "outputs": [
        {
          "ename": "KeyError",
          "evalue": "'Monday'",
          "output_type": "error",
          "traceback": [
            "\u001b[1;31m---------------------------------------------------------------------------\u001b[0m",
            "\u001b[1;31mKeyError\u001b[0m                                  Traceback (most recent call last)",
            "\u001b[1;32m<ipython-input-68-607835fdbeda>\u001b[0m in \u001b[0;36m<module>\u001b[1;34m\u001b[0m\n\u001b[1;32m----> 1\u001b[1;33m \u001b[0mTime\u001b[0m\u001b[1;33m[\u001b[0m\u001b[1;34m'Monday'\u001b[0m\u001b[1;33m]\u001b[0m \u001b[1;31m#Reverse cannot be done, i.e using value one cannot display key\u001b[0m\u001b[1;33m\u001b[0m\u001b[1;33m\u001b[0m\u001b[0m\n\u001b[0m",
            "\u001b[1;31mKeyError\u001b[0m: 'Monday'"
          ]
        }
      ],
      "source": [
        "Time['Monday'] #Reverse cannot be done, i.e using value one cannot display key"
      ]
    },
    {
      "cell_type": "markdown",
      "metadata": {
        "id": "JMyL5VsTQml-"
      },
      "source": [
        "# Type-Conversion in Python"
      ]
    },
    {
      "cell_type": "markdown",
      "metadata": {
        "id": "YvyMdbr6Qml_"
      },
      "source": [
        "As the name suggests, type-conversion in Python is the process of converting one data type to another. This can be done into two ways :\n",
        "\n",
        "**1. Implicit Type Conversion** - In this type of type-conversion, Python automatically converts one data-type to another data-type. The user need not give specific instructions for carrying this conversion out.\n",
        "\n",
        "**2. Explicit Type Conversion** - In Explicit type-conversion, the user sets preference from converting one data-type to another desired data-type."
      ]
    },
    {
      "cell_type": "code",
      "execution_count": null,
      "metadata": {
        "id": "Yvsni_SFQml_",
        "outputId": "94f48368-6614-45db-a488-0547c0e836eb"
      },
      "outputs": [
        {
          "name": "stdout",
          "output_type": "stream",
          "text": [
            "datatype of integer: <class 'int'>\n",
            "datatype of float_n: <class 'float'>\n",
            "Value of add: 151.55\n",
            "datatype of add: <class 'float'>\n"
          ]
        }
      ],
      "source": [
        "integer = 150\n",
        "float_n = 1.55\n",
        "\n",
        "add = integer + float_n\n",
        "\n",
        "print(\"datatype of integer:\",type(integer))\n",
        "print(\"datatype of float_n:\",type(float_n))\n",
        "\n",
        "print(\"Value of add:\",add)\n",
        "print(\"datatype of add:\",type(add))"
      ]
    },
    {
      "cell_type": "markdown",
      "metadata": {
        "id": "eO-lZtpMQmmC"
      },
      "source": [
        "In the above example we can clearly see how python implicitly set up the data-type of the variable 'add'. Let's try adding a string and an integer to see what happens!"
      ]
    },
    {
      "cell_type": "code",
      "execution_count": null,
      "metadata": {
        "id": "cBq1jSD1QmmD",
        "outputId": "261dd48e-8795-4ab1-fa33-695eb46b0828"
      },
      "outputs": [
        {
          "ename": "TypeError",
          "evalue": "unsupported operand type(s) for +: 'int' and 'str'",
          "output_type": "error",
          "traceback": [
            "\u001b[1;31m---------------------------------------------------------------------------\u001b[0m",
            "\u001b[1;31mTypeError\u001b[0m                                 Traceback (most recent call last)",
            "\u001b[1;32m<ipython-input-70-d086f413d6ef>\u001b[0m in \u001b[0;36m<module>\u001b[1;34m\u001b[0m\n\u001b[0;32m      1\u001b[0m \u001b[0mstring\u001b[0m \u001b[1;33m=\u001b[0m \u001b[1;34m'300'\u001b[0m\u001b[1;33m\u001b[0m\u001b[1;33m\u001b[0m\u001b[0m\n\u001b[1;32m----> 2\u001b[1;33m \u001b[0mnew\u001b[0m \u001b[1;33m=\u001b[0m \u001b[0minteger\u001b[0m \u001b[1;33m+\u001b[0m \u001b[0mstring\u001b[0m\u001b[1;33m\u001b[0m\u001b[1;33m\u001b[0m\u001b[0m\n\u001b[0m",
            "\u001b[1;31mTypeError\u001b[0m: unsupported operand type(s) for +: 'int' and 'str'"
          ]
        }
      ],
      "source": [
        "string = '300'\n",
        "new = integer + string"
      ]
    },
    {
      "cell_type": "code",
      "execution_count": null,
      "metadata": {
        "id": "Wsn7moyQQmmF",
        "outputId": "80fdc733-611e-44eb-f9b4-f54318874f37"
      },
      "outputs": [
        {
          "name": "stdout",
          "output_type": "stream",
          "text": [
            "Data type of integer: <class 'int'>\n",
            "Data type of string before explicit conversion: <class 'str'>\n",
            "Data type of string after explicit conversion: <class 'int'>\n",
            "Sum of integer and string: 450\n",
            "Data type of the sum: <class 'int'>\n"
          ]
        }
      ],
      "source": [
        "integer = 150\n",
        "string = \"300\"\n",
        "\n",
        "print(\"Data type of integer:\",type(integer))\n",
        "print(\"Data type of string before explicit conversion:\",type(string))\n",
        "\n",
        "string = int(string)\n",
        "print(\"Data type of string after explicit conversion:\",type(string))\n",
        "\n",
        "new = integer + string\n",
        "\n",
        "print(\"Sum of integer and string:\",new)\n",
        "print(\"Data type of the sum:\",type(new))"
      ]
    },
    {
      "cell_type": "markdown",
      "metadata": {
        "id": "h_qAJ56LQmmH"
      },
      "source": [
        "Explicit type conversion is also known as **\"Typecasting\"**. The major difference between them is the **involvement of the user** and the fact that in implicit conversion, Python gives **preference to data type which would avoid data loss**. For example if we are adding a float with an int type the result would always be float else the sum would get truncated if the result is converted into int, thus resulting in loss of data."
      ]
    },
    {
      "cell_type": "markdown",
      "metadata": {
        "id": "nkzEuoQFQmnH"
      },
      "source": [
        "# Flow Control in Python"
      ]
    },
    {
      "cell_type": "markdown",
      "metadata": {
        "id": "9vgEmdKmQmnI"
      },
      "source": [
        "In general, statements are executed sequentially: The first statement in a function is executed first, followed by the second, and so on. There may be a situation when you need to execute a block of code several number of times.\n",
        "\n",
        "Programming languages provide various control structures that allow for more complicated execution paths.\n",
        "\n",
        "A loop statement allows us to execute a statement or group of statements multiple times.\n",
        "\n",
        "For more infortmation click [here](https://www.tutorialspoint.com/python/python_loops.htm)"
      ]
    },
    {
      "cell_type": "markdown",
      "metadata": {
        "id": "aQ_lwaTLQmnI"
      },
      "source": [
        "**If-Else Statement**\n",
        "\n",
        "A situation where this may be used is when you would like to check for a condition(user-defined) to allow a particular code to execute, such as checking for password from user input."
      ]
    },
    {
      "cell_type": "code",
      "execution_count": null,
      "metadata": {
        "id": "daALlmRhQmnJ"
      },
      "outputs": [],
      "source": [
        "a,b = 2,3 #This is a way to assign values to multiple variables in the same line\n",
        "\n",
        "if a > b: #If a is greater than b, print the value of a\n",
        "    print(\"a\") #Indentation using the `Tab` key is important to denote that this print(\"a\") is for the first if statement\n",
        "else:\n",
        "    print(\"b\")#else print the value of b"
      ]
    },
    {
      "cell_type": "code",
      "execution_count": null,
      "metadata": {
        "id": "tTChTiUOQmnN"
      },
      "outputs": [],
      "source": [
        "a = 7\n",
        "#If a is greater than the value 6, execute the statement below it\n",
        "if a > 6:\n",
        "     print(f\"{a} is good\")"
      ]
    },
    {
      "cell_type": "markdown",
      "metadata": {
        "id": "s4Xi17_1QmnQ"
      },
      "source": [
        "**While Loop**"
      ]
    },
    {
      "cell_type": "markdown",
      "metadata": {
        "id": "KNjNdpZKQmnR"
      },
      "source": [
        "A while loop in python iterates till its condition becomes False. In other words, it executes the statements under itself while the condition it takes is True. When the program control reaches the while loop, the condition is checked. If the condition is true, the block of code under it is executed. Remember to indent all statements under the loop equally. After that, the condition is checked again. This continues until the condition becomes false. Then, the first statement, if any, after the loop is executed."
      ]
    },
    {
      "cell_type": "code",
      "execution_count": null,
      "metadata": {
        "id": "4xYqCDhzQmnR"
      },
      "outputs": [],
      "source": [
        "a = 0 #Assign the value 0 to the variable a\n",
        "\n",
        "#The condition of this loop is to run *while* the value of a is LESS THAN 9\n",
        "while(a < 9):\n",
        "    print(a) #This print is to demonstrate how the condition functions in a loop using an number increment\n",
        "    a += 1\n",
        "\n",
        "print(\"Loop has ended at 8, can you tell why?\")\n"
      ]
    },
    {
      "cell_type": "markdown",
      "metadata": {
        "id": "4dmfDaPaQmnU"
      },
      "source": [
        "**For Loop**"
      ]
    },
    {
      "cell_type": "markdown",
      "metadata": {
        "id": "uxse4FUPQmnV"
      },
      "source": [
        "A for loop does the same thing as the example in the while loop, but makes it simpler to write and understand. For more information, click [here](https://data-flair.training/blogs/python-loop/)"
      ]
    },
    {
      "cell_type": "code",
      "execution_count": null,
      "metadata": {
        "id": "7aXCgeP4QmnW"
      },
      "outputs": [],
      "source": [
        "for i in range(10): #This statement creates a for loop that runs 10 times and stops\n",
        "    print(i)"
      ]
    },
    {
      "cell_type": "code",
      "execution_count": null,
      "metadata": {
        "id": "GdHwjGagQmne"
      },
      "outputs": [],
      "source": [
        "lst=[0,1]\n",
        "\n",
        "for i in range(10):\n",
        "    print(lst)\n",
        "    lst.append(lst[-1]+lst[-2])"
      ]
    },
    {
      "cell_type": "markdown",
      "metadata": {
        "id": "Vpk694bcMGpK"
      },
      "source": [
        "This example demonstrates how flow control, could be used in a simple login system, give it a try below!"
      ]
    },
    {
      "cell_type": "code",
      "execution_count": null,
      "metadata": {
        "id": "CdZTvA04Qmno",
        "outputId": "a83c0ff3-6f4e-4076-f12a-1635a0c31e6e"
      },
      "outputs": [
        {
          "name": "stdout",
          "output_type": "stream",
          "text": [
            "\n",
            "5 Login attemps remaining!\n",
            "\n",
            "4 Login attemps remaining!\n",
            "\n",
            "3 Login attemps remaining!\n",
            "\n",
            "2 Login attemps remaining!\n",
            "\n",
            "1 Login attemps remaining!\n",
            "Login failed!\n"
          ]
        }
      ],
      "source": [
        "countdown = 5 # Creating a variable to track the amount of tries left to input the correct password\n",
        "\n",
        "# Example of flow control being nested(put inside each other), this example loop allows for 6 runs before stopping\n",
        "for i in range(6):\n",
        "    password=str(input(\"enter your password:\"))#Try entering a variety of inputs and see what happens!\n",
        "    if(password == \"python\"): # The actual password\n",
        "        print(\"Success!\")\n",
        "        break # break is used to break out of the loop\n",
        "    if(countdown <= 0): # If countdown hits 0 or a negative value execute the statement underneath\n",
        "        print(\"Login failed!\")\n",
        "    else:\n",
        "        print(f\"\\n{countdown} Login attemps remaining!\") # Display the amount of login attemps left\n",
        "    countdown -= 1 # Reduce the countdown number by 1 every run"
      ]
    },
    {
      "cell_type": "markdown",
      "metadata": {
        "id": "GpAfb9IPQmmJ"
      },
      "source": [
        "# **Functions in Python**"
      ]
    },
    {
      "cell_type": "markdown",
      "metadata": {
        "id": "HI36jwFKQmmK"
      },
      "source": [
        "In programming we often come across situations where a particular block of code needs to be repeated or reused. Thus the concept of functions comes into play. A function is basically a block of code which performs a specific task.\n",
        "\n",
        "Functions make the entire code look more organised and manageable. They allow reusability of code and organise the program into small modular chunks."
      ]
    },
    {
      "cell_type": "markdown",
      "metadata": {
        "id": "hJVZzISKQmmK"
      },
      "source": [
        "**Syntax of a Function**"
      ]
    },
    {
      "cell_type": "code",
      "execution_count": null,
      "metadata": {
        "id": "je-XIAaoQmmK"
      },
      "outputs": [],
      "source": [
        "def name_of_function(parameter):\n",
        "    statements"
      ]
    },
    {
      "cell_type": "markdown",
      "metadata": {
        "id": "Qk4l2NgNQmmO"
      },
      "source": [
        "The above example illustrates how a function typically looks like. Notice it contains three parts -\n",
        "1. Keyword def that marks the start of the function header.\n",
        "2. A unique function name which helps in identifying the function.\n",
        "3. Parameters which help us in passing values through the function. They are also known as arguments and are optional.\n",
        "4. Statements consist of the code which performs the specific task for which the function is defined.\n"
      ]
    },
    {
      "cell_type": "code",
      "execution_count": null,
      "metadata": {
        "id": "p3X22xWIQmmO"
      },
      "outputs": [],
      "source": [
        "def sum(x, y): #This example shows a function which can add two numbers x & y\n",
        "    s = x+y\n",
        "    return s"
      ]
    },
    {
      "cell_type": "markdown",
      "metadata": {
        "id": "46Jtqhn5Qmmf"
      },
      "source": [
        "**Function Call**"
      ]
    },
    {
      "cell_type": "code",
      "execution_count": null,
      "metadata": {
        "id": "IPeV9Re1Qmmg"
      },
      "outputs": [],
      "source": [
        "num_1 = 27\n",
        "num_2 = 23\n",
        "print (sum(num_1,num_2)) #Notice how the two numbers are passed into the 'sum' function"
      ]
    },
    {
      "cell_type": "markdown",
      "metadata": {
        "id": "eFIsmmSyQmmy"
      },
      "source": [
        "Functions can be user-defined or built-in. Can you point out an example of each?"
      ]
    },
    {
      "cell_type": "code",
      "execution_count": null,
      "metadata": {
        "id": "_4AIxWThQmmy"
      },
      "outputs": [],
      "source": [
        "#write your answer here"
      ]
    },
    {
      "cell_type": "markdown",
      "metadata": {
        "id": "nNxeCJXPQmm3"
      },
      "source": [
        "Write a function in Python to convert celsius Scale to Fahrenheit Scale"
      ]
    },
    {
      "cell_type": "code",
      "execution_count": null,
      "metadata": {
        "id": "WzdfRNcZQmm3"
      },
      "outputs": [],
      "source": [
        "#Write your answer here"
      ]
    },
    {
      "cell_type": "markdown",
      "metadata": {
        "id": "VPTAULY2Qmm8"
      },
      "source": [
        "# Modules in Python"
      ]
    },
    {
      "cell_type": "markdown",
      "metadata": {
        "id": "oFI2-8ACQmm8"
      },
      "source": [
        "Modules refer to a file containing Python statements and definitions.\n",
        "\n",
        "A file containing Python code, for example: test.py, is called a module, and its module name would be test.\n",
        "\n",
        "We use modules to break down large programs into small manageable and organized files. Furthermore, modules provide reusability of code.\n",
        "\n",
        "We can define our most used functions in a module and import it, instead of copying their definitions into different programs."
      ]
    },
    {
      "cell_type": "code",
      "execution_count": null,
      "metadata": {
        "id": "PQORPfqmQmm9"
      },
      "outputs": [],
      "source": [
        "# import statement example\n",
        "# to import standard module math\n",
        "\n",
        "import math\n",
        "print(\"The value of pi is\", math.pi)"
      ]
    },
    {
      "cell_type": "markdown",
      "metadata": {
        "id": "mnrxzjAcQmnA"
      },
      "source": [
        "# Packages in Python"
      ]
    },
    {
      "cell_type": "markdown",
      "metadata": {
        "id": "EDIAc41kQmnB"
      },
      "source": [
        "We often use a well organised directory to store folders & files in our computer. Similarly in python we often organise a group of modules together in a package. This heirarchy of organisation is analogous to a directory consisting of folders and files where you can considrer a package to be analogous to a folder whereas a module is analogous to a file.\n",
        "\n",
        "Just like a folder contains multiple files a package can contain multiple modules.\n",
        "\n",
        "As our program grows larger in size with a lot of modules, we group similar modules in one package and different modules in different packages. This makes a program easy to manage and conceptually clear.\n",
        "\n",
        "A directory must contain a file named __init__.py in order for Python to consider it as a package. This file can be left empty but we generally place the initialization code for that package in this file."
      ]
    },
    {
      "cell_type": "code",
      "execution_count": null,
      "metadata": {
        "id": "qi9R68fsQmnB"
      },
      "outputs": [],
      "source": [
        "#Numpy is a popular package for scientific and mathematical computing in Python.\n",
        "#In the example below we are adding two 2*2 matrices\n",
        "import numpy as np\n",
        "\n",
        "a = np.array([[1, 2], [3, 4]])\n",
        "b = np.array([[5, 6], [7, 8]])\n",
        "print(a+b)"
      ]
    },
    {
      "cell_type": "markdown",
      "metadata": {
        "id": "uHS07C51Qmnu"
      },
      "source": [
        "# **Bonus Exercise**"
      ]
    },
    {
      "cell_type": "markdown",
      "metadata": {
        "id": "ncFyHDHAH9zx"
      },
      "source": [
        "<br>Make a simple calculator that does simple calculations. Here you would have to do some String manipulations then, identify the operator used in the input then print out the value of the calculation. These basic operators should be accepted by your implementation! **+ - * /** *Addition, Subtraction, Multiplication and Division.*\n",
        "<br><br> For Example, input would be \"1+2\" or \"1\\*2\", etc<br>string(*input*(\"Enter values in the form: \"number operator number\"))\n",
        "\n",
        "<br><br>Feel free to use online resources to aid you with this.\n",
        "\n",
        "<br> ***Hint***: Use Type-Conversion after extracting the operator and numbers."
      ]
    },
    {
      "cell_type": "code",
      "execution_count": null,
      "metadata": {
        "id": "xCXeSIyfH9hR"
      },
      "outputs": [],
      "source": [
        "#Make additional changes or add functions if you need to\n",
        "\n",
        "#myCalculator takes in the argument (inputString) passed in from the user-input (Your Keyboard)\n",
        "#An example input would be in this form: '1+2' or '3-2', etc\n",
        "def myCalculator(inputString):\n",
        "  #Extract the numbers and operator from the inputString\n",
        "\n",
        "    #++++++Codes under here!-------\n",
        "    #Hint: Use Slicing to obtain the numbers and operator! Then use type conversion to obtain the number and character!\n",
        "\n",
        "    #++++++Codes above here!-------\n",
        "\n",
        " #The function arguments in this example should be derived from splitting up the input string above!\n",
        "  printCalculation(num1,operator,num2) #This is an example of what values go into the function! printCalculation(1,'+',2)\n",
        "\n",
        "#printCalculation takes in the arguments of the first number in the string, the operator, the second number\n",
        "def printCalculation(num1,operator,num2):\n",
        "    if(operator == '+'): #Add the other operators with elif!\n",
        "        print(num1,' ',operator, ' ', num2, ' = ',num1+num2) #The output will be displayed as \"1 + 2 = 3\" for example\n",
        "    else:\n",
        "        print(\"Error!\") #This just checks if you have entered the input correctly!\n",
        "\n",
        "#Input here!\n",
        "inputString = input(\"EG.'1+2' \")\n",
        "\n",
        "myCalculator(inputString)"
      ]
    }
  ],
  "metadata": {
    "colab": {
      "provenance": [],
      "include_colab_link": true
    },
    "kernelspec": {
      "display_name": "Python 3 (ipykernel)",
      "language": "python",
      "name": "python3"
    },
    "language_info": {
      "codemirror_mode": {
        "name": "ipython",
        "version": 3
      },
      "file_extension": ".py",
      "mimetype": "text/x-python",
      "name": "python",
      "nbconvert_exporter": "python",
      "pygments_lexer": "ipython3",
      "version": "3.9.7"
    }
  },
  "nbformat": 4,
  "nbformat_minor": 0
}